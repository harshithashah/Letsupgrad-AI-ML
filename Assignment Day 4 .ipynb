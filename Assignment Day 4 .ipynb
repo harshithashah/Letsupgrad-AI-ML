{
 "cells": [
  {
   "cell_type": "code",
   "execution_count": 4,
   "metadata": {},
   "outputs": [
    {
     "name": "stdout",
     "output_type": "stream",
     "text": [
      "Enter two complex numbers in the form a+bj:\n",
      "3+3j\n",
      "2+4j\n",
      "sum = (5+7j)\n",
      "sub = (1-1j)\n",
      "multi = (-6+18j)\n",
      "div = (0.9-0.3j)\n"
     ]
    }
   ],
   "source": [
    "print(\"Enter two complex numbers in the form a+bj:\")\n",
    "n1 = complex(input())\n",
    "n2 = complex(input())\n",
    "print(\"sum =\", n1 + n2)\n",
    "print(\"sub =\", n1 - n2)\n",
    "print(\"multi =\", n1 * n2)\n",
    "print(\"div =\", n1 / n2)"
   ]
  },
  {
   "cell_type": "markdown",
   "metadata": {},
   "source": [
    "range() function is used to find a range of a specific set that is defined by a start and a stop value. It ahelps to list and print the values conined by start stop and step eg(  y =range(start,stop,step)"
   ]
  },
  {
   "cell_type": "code",
   "execution_count": 6,
   "metadata": {},
   "outputs": [
    {
     "name": "stdout",
     "output_type": "stream",
     "text": [
      "1\n",
      "3\n",
      "5\n",
      "7\n",
      "9\n"
     ]
    }
   ],
   "source": [
    "x = range(1, 10,2)\n",
    "\n",
    "for n in x:\n",
    "  print(n)"
   ]
  },
  {
   "cell_type": "code",
   "execution_count": 16,
   "metadata": {},
   "outputs": [
    {
     "name": "stdout",
     "output_type": "stream",
     "text": [
      "Enter value of x: 30\n",
      "Enter value of y: 4\n",
      " 120\n"
     ]
    }
   ],
   "source": [
    "x = int(input('Enter value of x: '))\n",
    "y = int(input('Enter value of y: '))\n",
    "\n",
    "c = x-y\n",
    "\n",
    "if (c < 25):\n",
    "   c=x/y\n",
    "   print(\"\",c)\n",
    "else:\n",
    "    c=x*y\n",
    "    print(\"\",c)"
   ]
  },
  {
   "cell_type": "code",
   "execution_count": 20,
   "metadata": {},
   "outputs": [
    {
     "name": "stdout",
     "output_type": "stream",
     "text": [
      "[5.0, 10.0, 15.0, 20.0, 25.0, 30.0, 35.0, 40.0, 45.0]\n"
     ]
    }
   ],
   "source": [
    "myList = [10,20,30,40,50,60,70,80,90]\n",
    "myInt = 2\n",
    "newList = [x / myInt for x in myList]\n",
    "print(newList)"
   ]
  },
  {
   "cell_type": "code",
   "execution_count": 21,
   "metadata": {},
   "outputs": [
    {
     "name": "stdout",
     "output_type": "stream",
     "text": [
      "[5.0, 10.0, 15.0, 20.0, 25.0, 30.0, 35.0, 40.0, 45.0]\n",
      "The numbers greater than 4 : 8\n"
     ]
    }
   ],
   "source": [
    "myList = [10,20,30,40,50,60,70,80,90]\n",
    "myInt = 2\n",
    "newList = [x / myInt for x in myList]\n",
    "print(newList)\n",
    "k = 7\n",
    "# using list comprehension \n",
    "# to get numbers > k \n",
    "count = len([i for i in newList if i > k]) \n",
    "   \n",
    "print (\"The numbers greater than 4 : \" + str(count)) "
   ]
  },
  {
   "cell_type": "code",
   "execution_count": null,
   "metadata": {},
   "outputs": [],
   "source": []
  }
 ],
 "metadata": {
  "kernelspec": {
   "display_name": "Python 3",
   "language": "python",
   "name": "python3"
  },
  "language_info": {
   "codemirror_mode": {
    "name": "ipython",
    "version": 3
   },
   "file_extension": ".py",
   "mimetype": "text/x-python",
   "name": "python",
   "nbconvert_exporter": "python",
   "pygments_lexer": "ipython3",
   "version": "3.7.6"
  }
 },
 "nbformat": 4,
 "nbformat_minor": 4
}

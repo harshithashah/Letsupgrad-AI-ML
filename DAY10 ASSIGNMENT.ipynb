{
 "cells": [
  {
   "cell_type": "markdown",
   "metadata": {},
   "source": [
    "#Assignment DAY 10\n",
    "#FORMULATE 10 HYPOTHESIS BASED ON ATTRITION CASE STUDY GIVEN BY SIR:\n",
    "\n",
    "  (A) VARIABLES CONSIDERED FOR HYPOTHESIS:-\n",
    "     (1)DISTANCE FROM HOME  (2)MONTHLY INCOME\n",
    "     (3)NUMBER OF COMPANIES WORKED\n",
    "     (4)PERCENTAGE HIKE IN SALARY\n",
    "     (5)YEARS AT COMPANY\n",
    "     (6)AGE    (7)JOB TIME\n",
    "     (8)YEARS WITH CURRENT MANAGER\n",
    "     (9)YEAR SINCE LAST PROMOTED\n",
    "     (10)WORK EXPERIENCE\n",
    "     \n",
    "  (B) HYPOTHESIS:-\n",
    "      (H1) DISTANCE FROM HOME AFFECTS ATTRITION\n",
    "      (H2) MONTHLY INCOME OF EMPLOYEES AFFECTS ATTRITION\n",
    "      (H3) TOTAL WORK EXPERIENCE OF EMPLOYEES AFFECTS ATTRITION\n",
    "      (H4) SALARY HIKE OF EMPLOYEES AFFECTS ATTRITION\n",
    "      (H5) EMPLOYEES YEARS OF WORK EXPERIENCE WITH THE COMPANY AFFECTS ATTRITION\n",
    "      (H6) AGE OF EMPLOYEES AFFECTS ATTRITION\n",
    "      (H7) WORKING HOURS OF EMPLOYEES AFFECTS ATTRITION\n",
    "      (H8) EMPLOYEES YEARS WITH CURRENT MANAGER AFFECTS ATTRITION\n",
    "      (H9) YEAR SINCE LAST PROMOTED OF EMPLOYEES AFFECTS ATTRITION\n",
    "      (H10) TOTAL WORK EXPERIENCE OF EMPLOYEES AFFECTS ATTRITION\n",
    "      \n",
    "   (C) TESTING HYPOTHESIS2 H(2):-\n",
    "       (H2) MONTHLY INCOME OF EMPLOYEES AFFECTS ATTRITION\n",
    "        \n",
    "       H0=54000(IQR){2 TAIL TEST}; STANDARD DEVIATION(FOUND OUT)=47068 SO PERFORMING Z TEST;NO: OF          DATA =474; \n",
    "       CORRECTION FACTOR=0.05(ASSUME)\n",
    "       DEGREE OF FREEDOM=474 -20=454\n",
    "       Zstat=(65000-54000)/(47068/SQRT(474))=5.088\n",
    "       Ttable value=1.98\n",
    "       Tcalculated = 5.088\n",
    "       so 5.088 lie out range -1.98 to 1.98 showing our hypothesis is false.\n",
    "       H2 is false.\n",
    "       inference: MONTHLY INCOME DOES NOT AFFECT ATTRITION."
   ]
  }
 ],
 "metadata": {
  "kernelspec": {
   "display_name": "Python 3",
   "language": "python",
   "name": "python3"
  },
  "language_info": {
   "codemirror_mode": {
    "name": "ipython",
    "version": 3
   },
   "file_extension": ".py",
   "mimetype": "text/x-python",
   "name": "python",
   "nbconvert_exporter": "python",
   "pygments_lexer": "ipython3",
   "version": "3.7.6"
  }
 },
 "nbformat": 4,
 "nbformat_minor": 4
}

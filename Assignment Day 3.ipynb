{
 "cells": [
  {
   "cell_type": "code",
   "execution_count": 2,
   "metadata": {},
   "outputs": [
    {
     "name": "stdout",
     "output_type": "stream",
     "text": [
      "Enter two complex numbers in the form a+bj:\n",
      "3+2j\n",
      "2+3j\n",
      "sum = (5+5j)\n"
     ]
    }
   ],
   "source": [
    "print(\"Enter two complex numbers in the form a+bj:\")\n",
    "n1 = complex(input())\n",
    "n2 = complex(input())\n",
    "print(\"sum =\", n1 + n2)"
   ]
  },
  {
   "cell_type": "code",
   "execution_count": 4,
   "metadata": {},
   "outputs": [
    {
     "name": "stdout",
     "output_type": "stream",
     "text": [
      "enter a number: 8\n",
      "fourth root: 1.681792830507429\n"
     ]
    }
   ],
   "source": [
    "number = int(input(\"enter a number: \"))\n",
    "sqrt = number ** (1/4)\n",
    "print(\"fourth root:\", sqrt)"
   ]
  },
  {
   "cell_type": "code",
   "execution_count": 8,
   "metadata": {},
   "outputs": [
    {
     "name": "stdout",
     "output_type": "stream",
     "text": [
      "Enter value of x: 33\n",
      "Enter value of y: 44\n",
      "After Swapping x = 44\n",
      "After swapping y = 33\n"
     ]
    }
   ],
   "source": [
    "x = input('Enter value of x: ')\n",
    "y = input('Enter value of y: ')\n",
    "x, y = y, x\n",
    "print(\"After Swapping x =\", x)\n",
    "print(\"After swapping y =\", y)"
   ]
  },
  {
   "cell_type": "code",
   "execution_count": 14,
   "metadata": {},
   "outputs": [
    {
     "name": "stdout",
     "output_type": "stream",
     "text": [
      "enter the temperature in celcius to convert:32\n",
      "The converted temperature is : 89.6\n"
     ]
    }
   ],
   "source": [
    "celsius= float(input(\"enter the temperature in celcius to convert:\"))\n",
    "far= (celsius * 1.8) + 32\n",
    "print('The converted temperature is :',far)"
   ]
  },
  {
   "cell_type": "code",
   "execution_count": 20,
   "metadata": {},
   "outputs": [
    {
     "name": "stdout",
     "output_type": "stream",
     "text": [
      "<class 'tuple'>\n",
      "<class 'str'>\n",
      "<class 'int'>\n",
      "<class 'float'>\n",
      "<class 'list'>\n"
     ]
    }
   ],
   "source": [
    "a = ('a', 'b', 'c')\n",
    "b = \"Hello World\"\n",
    "c = 33\n",
    "d= 44.67\n",
    "e= ['a', 'b', 'c']\n",
    "\n",
    "\n",
    "print(type(a))\n",
    "print(type(b))\n",
    "print(type(c))\n",
    "print(type(d))\n",
    "print(type(e))\n"
   ]
  },
  {
   "cell_type": "markdown",
   "metadata": {},
   "source": [
    "Solve all assignments for a day in a single notebook. Make sure you are submitting a single file.\n",
    "The assignments for the week should be submitted by weekend i.e. Sunday 11:59 PM IST. You\n",
    "can use Jupyter Notebook or python files or even Google Colab to Solve your Assignments\n"
   ]
  },
  {
   "cell_type": "code",
   "execution_count": null,
   "metadata": {},
   "outputs": [],
   "source": []
  }
 ],
 "metadata": {
  "kernelspec": {
   "display_name": "Python 3",
   "language": "python",
   "name": "python3"
  },
  "language_info": {
   "codemirror_mode": {
    "name": "ipython",
    "version": 3
   },
   "file_extension": ".py",
   "mimetype": "text/x-python",
   "name": "python",
   "nbconvert_exporter": "python",
   "pygments_lexer": "ipython3",
   "version": "3.7.6"
  }
 },
 "nbformat": 4,
 "nbformat_minor": 4
}

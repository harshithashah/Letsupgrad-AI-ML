{
 "cells": [
  {
   "cell_type": "code",
   "execution_count": 4,
   "metadata": {},
   "outputs": [
    {
     "name": "stdout",
     "output_type": "stream",
     "text": [
      "3\n",
      "5\n",
      "7\n",
      "11\n",
      "13\n",
      "17\n",
      "19\n"
     ]
    }
   ],
   "source": [
    "start = 1\n",
    "end = 20\n",
    "  \n",
    "for val in range(start, end + 1): \n",
    "    if val > 1: \n",
    "        for n in range(2, val//2 + 2): \n",
    "            if (val % n) == 0: \n",
    "                break\n",
    "            else: \n",
    "                if n == val//2 + 1: \n",
    "                    print(val) "
   ]
  },
  {
   "cell_type": "code",
   "execution_count": 34,
   "metadata": {},
   "outputs": [
    {
     "name": "stdout",
     "output_type": "stream",
     "text": [
      "Hello, welcome to\n",
      "           the world of Python\n",
      "str[0] =  p\n",
      "str[-1] =  z\n",
      "str[1:5] =  rogr\n",
      "str[5:-2] =  am\n",
      "str1 + str2 =  HelloWorld!\n",
      "str1 * 3 = HelloHelloHello\n",
      "SAMMY SHARK\n",
      "sammy shark\n",
      "True\n",
      "False\n",
      "He said, \"What's there?\"\n"
     ]
    }
   ],
   "source": [
    "\n",
    "my_string = \"\"\"Hello, welcome to\n",
    "           the world of Python\"\"\"\n",
    "print(my_string)\n",
    "\n",
    "\n",
    "print('str[0] = ', str[0])\n",
    "\n",
    "print('str[-1] = ', str[-1])\n",
    "\n",
    "print('str[1:5] = ', str[1:5])\n",
    "\n",
    "print('str[5:-2] = ', str[5:-2])\n",
    "\n",
    "\n",
    "\n",
    "\n",
    "str1 = 'Hello'\n",
    "str2 ='World!'\n",
    "\n",
    "print('str1 + str2 = ', str1 + str2)\n",
    "\n",
    "print('str1 * 3 =', str1 * 3)\n",
    "\n",
    "\n",
    "ss = \"Sammy Shark\"\n",
    "print(ss.upper())     \n",
    "print(ss.lower())     \n",
    "     \n",
    "number = \"5\"\n",
    "letters = \"abcdef\"\n",
    "\n",
    "print(number.isnumeric())\n",
    "print(letters.isnumeric())     \n",
    "\n",
    "print(\"He said, \\\"What's there?\\\"\")\n",
    "\n"
   ]
  },
  {
   "cell_type": "code",
   "execution_count": 8,
   "metadata": {},
   "outputs": [
    {
     "name": "stdout",
     "output_type": "stream",
     "text": [
      "Enter a string:lol\n",
      "The string is a palindrome\n"
     ]
    }
   ],
   "source": [
    "string=input((\"Enter a string:\"))\n",
    "if(string==string[::-1]):\n",
    "      print(\"The string is a palindrome\")\n",
    "else:\n",
    "      print(\"Not a palindrome\")"
   ]
  },
  {
   "cell_type": "code",
   "execution_count": null,
   "metadata": {},
   "outputs": [],
   "source": []
  }
 ],
 "metadata": {
  "kernelspec": {
   "display_name": "Python 3",
   "language": "python",
   "name": "python3"
  },
  "language_info": {
   "codemirror_mode": {
    "name": "ipython",
    "version": 3
   },
   "file_extension": ".py",
   "mimetype": "text/x-python",
   "name": "python",
   "nbconvert_exporter": "python",
   "pygments_lexer": "ipython3",
   "version": "3.7.6"
  }
 },
 "nbformat": 4,
 "nbformat_minor": 4
}

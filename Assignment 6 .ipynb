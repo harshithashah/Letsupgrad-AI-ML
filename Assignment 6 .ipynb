{
 "cells": [
  {
   "cell_type": "code",
   "execution_count": 9,
   "metadata": {},
   "outputs": [
    {
     "data": {
      "text/plain": [
       "'bhumik.shah'"
      ]
     },
     "execution_count": 9,
     "metadata": {},
     "output_type": "execute_result"
    }
   ],
   "source": [
    "emailaddress = \"bhumik.shah@googgle.com\"\n",
    "username = emailaddress.split(\"@\", 1)[0]\n",
    "username"
   ]
  },
  {
   "cell_type": "code",
   "execution_count": 14,
   "metadata": {},
   "outputs": [
    {
     "name": "stdout",
     "output_type": "stream",
     "text": [
      "Input comma separated sequence of wordswithout,hello,bag,world\n",
      "bag,hello,without,world\n"
     ]
    }
   ],
   "source": [
    "items = input(\"Input comma separated sequence of words\")\n",
    "words = [word for word in items.split(\",\")]\n",
    "print(\",\".join(sorted(list(set(words)))))"
   ]
  },
  {
   "cell_type": "code",
   "execution_count": 18,
   "metadata": {},
   "outputs": [
    {
     "name": "stdout",
     "output_type": "stream",
     "text": [
      "{'cherry', 'banana', 'apple'}\n",
      "True\n",
      "{'orange', 'cherry', 'banana', 'apple'}\n",
      "{'grapes', 'apple', 'cherry', 'banana', 'orange', 'mango'}\n",
      "3\n",
      "{'cherry', 'apple'}\n",
      "cherry\n",
      "{'banana', 'apple'}\n",
      "set()\n",
      "{1, 2, 3, 'a', 'c', 'b'}\n",
      "{1, 2, 3, 'a', 'c', 'b'}\n",
      "{'google', 'cherry', 'banana', 'microsoft'}\n"
     ]
    }
   ],
   "source": [
    "thisset = {\"apple\", \"banana\", \"cherry\"}\n",
    "print(thisset)\n",
    "thisset = {\"apple\", \"banana\", \"cherry\"}\n",
    "print(\"banana\" in thisset)\n",
    "thisset = {\"apple\", \"banana\", \"cherry\"}\n",
    "thisset.add(\"orange\")\n",
    "print(thisset)\n",
    "thisset = {\"apple\", \"banana\", \"cherry\"}\n",
    "thisset.update([\"orange\", \"mango\", \"grapes\"])\n",
    "print(thisset)\n",
    "thisset = {\"apple\", \"banana\", \"cherry\"}\n",
    "print(len(thisset))\n",
    "thisset = {\"apple\", \"banana\", \"cherry\"}\n",
    "thisset.remove(\"banana\")\n",
    "print(thisset)\n",
    "thisset = {\"apple\", \"banana\", \"cherry\"}\n",
    "x = thisset.pop()\n",
    "print(x)\n",
    "print(thisset)\n",
    "thisset = {\"apple\", \"banana\", \"cherry\"}\n",
    "thisset.clear()\n",
    "print(thisset)\n",
    "thisset = {\"apple\", \"banana\", \"cherry\"}\n",
    "del thisset\n",
    "\n",
    "set1 = {\"a\", \"b\" , \"c\"}\n",
    "set2 = {1, 2, 3}\n",
    "set3 = set1.union(set2)\n",
    "print(set3)\n",
    "set1 = {\"a\", \"b\" , \"c\"}\n",
    "set2 = {1, 2, 3}\n",
    "set1.update(set2)\n",
    "print(set1)\n",
    "x = {\"apple\", \"banana\", \"cherry\"}\n",
    "y = {\"google\", \"microsoft\", \"apple\"}\n",
    "x.symmetric_difference_update(y)\n",
    "print(x)"
   ]
  },
  {
   "cell_type": "code",
   "execution_count": 15,
   "metadata": {},
   "outputs": [
    {
     "name": "stdout",
     "output_type": "stream",
     "text": [
      "5\n",
      "13\n"
     ]
    }
   ],
   "source": [
    "def missing_number(num_list):\n",
    "    return sum(range(num_list[0],num_list[-1]+1)) - sum(num_list)\n",
    "print(missing_number([1,2,3,4,6,7,8]))\n",
    "print(missing_number([10,11,12,14,15,16,17]))"
   ]
  },
  {
   "cell_type": "code",
   "execution_count": 17,
   "metadata": {},
   "outputs": [
    {
     "name": "stdout",
     "output_type": "stream",
     "text": [
      "[2, 4, 10, 20, 5]\n"
     ]
    }
   ],
   "source": [
    "\n",
    "def Remove(duplicate): \n",
    "\tfinal_list = [] \n",
    "\tfor num in duplicate: \n",
    "\t\tif num not in final_list: \n",
    "\t\t\tfinal_list.append(num) \n",
    "\treturn final_list \n",
    "\t\n",
    " \n",
    "duplicate = [2, 4, 10, 20, 5, 2, 20, 4] \n",
    "print(Remove(duplicate)) \n"
   ]
  },
  {
   "cell_type": "code",
   "execution_count": null,
   "metadata": {},
   "outputs": [],
   "source": []
  }
 ],
 "metadata": {
  "kernelspec": {
   "display_name": "Python 3",
   "language": "python",
   "name": "python3"
  },
  "language_info": {
   "codemirror_mode": {
    "name": "ipython",
    "version": 3
   },
   "file_extension": ".py",
   "mimetype": "text/x-python",
   "name": "python",
   "nbconvert_exporter": "python",
   "pygments_lexer": "ipython3",
   "version": "3.7.6"
  }
 },
 "nbformat": 4,
 "nbformat_minor": 4
}
